{
  "nbformat": 4,
  "nbformat_minor": 0,
  "metadata": {
    "colab": {
      "provenance": [],
      "include_colab_link": true
    },
    "kernelspec": {
      "name": "python3",
      "display_name": "Python 3"
    },
    "language_info": {
      "name": "python"
    }
  },
  "cells": [
    {
      "cell_type": "markdown",
      "metadata": {
        "id": "view-in-github",
        "colab_type": "text"
      },
      "source": [
        "<a href=\"https://colab.research.google.com/github/Mihika-J/DS-EXPS/blob/main/DS_EXP_11.ipynb\" target=\"_parent\"><img src=\"https://colab.research.google.com/assets/colab-badge.svg\" alt=\"Open In Colab\"/></a>"
      ]
    },
    {
      "cell_type": "markdown",
      "source": [
        "**Embedded methods perform feature selection and training of the algorithm in parallel. In other words, the feature selection process is an integral part of the classification/regressor model.**\n"
      ],
      "metadata": {
        "id": "rdHNQP7VoVDk"
      }
    },
    {
      "cell_type": "code",
      "execution_count": 5,
      "metadata": {
        "id": "JjDzhQwgmHNZ"
      },
      "outputs": [],
      "source": [
        "import pandas as pd\n",
        "import numpy as np\n",
        "from sklearn.model_selection import train_test_split\n",
        "from sklearn.linear_model import Lasso, Ridge, ElasticNet\n",
        "from sklearn.ensemble import RandomForestClassifier\n",
        "from sklearn.feature_selection import SelectFromModel\n",
        "import matplotlib.pyplot as plt\n",
        "from sklearn.preprocessing import LabelEncoder"
      ]
    },
    {
      "cell_type": "code",
      "source": [
        "# Load the Iris dataset\n",
        "iris_data = pd.read_csv(\"iris.csv\")\n",
        "\n",
        "# Separate features and target\n",
        "X = iris_data.iloc[:, :-1]  # All columns except the last one\n",
        "y = iris_data.iloc[:, -1]   # The last column (Species)\n",
        "\n",
        "# Convert target labels to numeric values\n",
        "label_encoder = LabelEncoder()\n",
        "y = label_encoder.fit_transform(y)\n",
        "\n",
        "# Split dataset into training and testing sets\n",
        "X_train, X_test, y_train, y_test = train_test_split(X, y, test_size=0.3, random_state=42)\n"
      ],
      "metadata": {
        "id": "w2rwrLd-mS3q"
      },
      "execution_count": 6,
      "outputs": []
    },
    {
      "cell_type": "markdown",
      "source": [
        "**1.Lasso Regression (Least Absolute Shrinkage and Selection Operator) is a type of linear regression that includes a regularization term to prevent overfitting and perform feature selection. It is particularly useful in high-dimensional datasets with many features, as it can reduce the number of features used in the final model by shrinking some feature coefficients to exactly zero.**"
      ],
      "metadata": {
        "id": "l21627-opkvW"
      }
    },
    {
      "cell_type": "code",
      "source": [
        "# --- Lasso Regression (L1 Regularization) ---\n",
        "print(\"Lasso Regression Feature Selection\")\n",
        "lasso = Lasso(alpha=0.01)\n",
        "lasso.fit(X_train, y_train)\n",
        "\n",
        "# Select features where Lasso coefficients are non-zero\n",
        "lasso_model = SelectFromModel(lasso, prefit=True)\n",
        "X_train_lasso = lasso_model.transform(X_train)\n",
        "X_test_lasso = lasso_model.transform(X_test)\n",
        "\n",
        "# Get feature names selected by Lasso\n",
        "lasso_selected_features = X.columns[(lasso.coef_ != 0)]\n",
        "print(\"Features selected by Lasso:\", list(lasso_selected_features))"
      ],
      "metadata": {
        "colab": {
          "base_uri": "https://localhost:8080/"
        },
        "id": "z9yLUmyYmzSc",
        "outputId": "e62bd62c-63be-4e73-892d-d1ea85f2245a"
      },
      "execution_count": 7,
      "outputs": [
        {
          "output_type": "stream",
          "name": "stdout",
          "text": [
            "Lasso Regression Feature Selection\n",
            "Features selected by Lasso: ['sepal.length', 'sepal.width', 'petal.length', 'petal.width']\n"
          ]
        },
        {
          "output_type": "stream",
          "name": "stderr",
          "text": [
            "/usr/local/lib/python3.10/dist-packages/sklearn/base.py:486: UserWarning: X has feature names, but SelectFromModel was fitted without feature names\n",
            "  warnings.warn(\n",
            "/usr/local/lib/python3.10/dist-packages/sklearn/base.py:486: UserWarning: X has feature names, but SelectFromModel was fitted without feature names\n",
            "  warnings.warn(\n"
          ]
        }
      ]
    },
    {
      "cell_type": "markdown",
      "source": [
        "**2.Ridge Regression is a type of linear regression that adds an L2 regularization term to penalize large coefficients, reducing overfitting without shrinking coefficients to zero.**"
      ],
      "metadata": {
        "id": "f610J1AAqHVz"
      }
    },
    {
      "cell_type": "code",
      "source": [
        "print(\"\\nRidge Regression Feature Selection\")\n",
        "ridge = Ridge(alpha=1.0)\n",
        "ridge.fit(X_train, y_train)\n",
        "\n",
        "ridge_coefs = pd.Series(ridge.coef_, index=X.columns)\n",
        "ridge_selected_features = ridge_coefs[ridge_coefs.abs() > 0.1].index  # Threshold can be adjusted\n",
        "print(\"Top features selected by Ridge:\", list(ridge_selected_features))"
      ],
      "metadata": {
        "colab": {
          "base_uri": "https://localhost:8080/"
        },
        "id": "Gmi1koc6qgjG",
        "outputId": "d3be1183-62ab-4f9b-ef4b-a37f8e4446f9"
      },
      "execution_count": 8,
      "outputs": [
        {
          "output_type": "stream",
          "name": "stdout",
          "text": [
            "\n",
            "Ridge Regression Feature Selection\n",
            "Top features selected by Ridge: ['sepal.length', 'petal.length', 'petal.width']\n"
          ]
        }
      ]
    },
    {
      "cell_type": "markdown",
      "source": [
        "**3.EN regression model is trained using the response variable and pre-selected features as input data.**"
      ],
      "metadata": {
        "id": "huIJsnhGrZjy"
      }
    },
    {
      "cell_type": "code",
      "source": [
        "print(\"\\nElastic Net Feature Selection\")\n",
        "elastic_net = ElasticNet(alpha=0.01, l1_ratio=0.5)\n",
        "elastic_net.fit(X_train, y_train)\n",
        "\n",
        "elastic_net_model = SelectFromModel(elastic_net, prefit=True)\n",
        "X_train_elastic = elastic_net_model.transform(X_train)\n",
        "X_test_elastic = elastic_net_model.transform(X_test)\n",
        "\n",
        "elastic_net_selected_features = X.columns[(elastic_net.coef_ != 0)]\n",
        "print(\"Features selected by Elastic Net:\", list(elastic_net_selected_features))\n",
        "print(\"\\nRidge Regression Feature Selection\")\n",
        "ridge = Ridge(alpha=1.0)\n",
        "ridge.fit(X_train, y_train)\n",
        "\n",
        "ridge_coefs = pd.Series(ridge.coef_, index=X.columns)\n",
        "ridge_selected_features = ridge_coefs[ridge_coefs.abs() > 0.1].index  # Threshold can be adjusted\n",
        "print(\"Top features selected by Ridge:\", list(ridge_selected_features))"
      ],
      "metadata": {
        "colab": {
          "base_uri": "https://localhost:8080/"
        },
        "id": "uhECkKIkoxzl",
        "outputId": "4c127c60-eb43-44af-c42b-afd6f15acfed"
      },
      "execution_count": 9,
      "outputs": [
        {
          "output_type": "stream",
          "name": "stdout",
          "text": [
            "\n",
            "Elastic Net Feature Selection\n",
            "Features selected by Elastic Net: ['sepal.length', 'sepal.width', 'petal.length', 'petal.width']\n",
            "\n",
            "Ridge Regression Feature Selection\n",
            "Top features selected by Ridge: ['sepal.length', 'petal.length', 'petal.width']\n"
          ]
        },
        {
          "output_type": "stream",
          "name": "stderr",
          "text": [
            "/usr/local/lib/python3.10/dist-packages/sklearn/base.py:486: UserWarning: X has feature names, but SelectFromModel was fitted without feature names\n",
            "  warnings.warn(\n",
            "/usr/local/lib/python3.10/dist-packages/sklearn/base.py:486: UserWarning: X has feature names, but SelectFromModel was fitted without feature names\n",
            "  warnings.warn(\n"
          ]
        }
      ]
    },
    {
      "cell_type": "code",
      "source": [
        "print(\"\\nRandom Forest Feature Importance\")\n",
        "forest = RandomForestClassifier(n_estimators=100, random_state=42)\n",
        "forest.fit(X_train, y_train)\n",
        "\n",
        "importances = forest.feature_importances_\n",
        "indices = np.argsort(importances)[::-1]\n",
        "\n",
        "# Plot feature importances\n",
        "plt.figure(figsize=(10, 5))\n",
        "plt.title(\"Feature Importance by Random Forest\")\n",
        "plt.bar(range(X.shape[1]), importances[indices], align=\"center\")\n",
        "plt.xticks(range(X.shape[1]), X.columns[indices], rotation=90)\n",
        "plt.show()\n",
        "\n",
        "# Get top features from Random Forest\n",
        "forest_selected_features = X.columns[indices[:2]]  # Top 2 features\n",
        "print(\"Top features selected by Random Forest:\", list(forest_selected_features))"
      ],
      "metadata": {
        "colab": {
          "base_uri": "https://localhost:8080/",
          "height": 591
        },
        "id": "A0bNV5IBqFfp",
        "outputId": "28e97330-b1a7-4db0-95b5-dcedffdff440"
      },
      "execution_count": 10,
      "outputs": [
        {
          "output_type": "stream",
          "name": "stdout",
          "text": [
            "\n",
            "Random Forest Feature Importance\n"
          ]
        },
        {
          "output_type": "display_data",
          "data": {
            "text/plain": [
              "<Figure size 1000x500 with 1 Axes>"
            ],
            "image/png": "[encoded data removed]"
          },
          "metadata": {}
        },
        {
          "output_type": "stream",
          "name": "stdout",
          "text": [
            "Top features selected by Random Forest: ['petal.width', 'petal.length']\n"
          ]
        }
      ]
    },
    {
      "cell_type": "code",
      "source": [],
      "metadata": {
        "id": "yd_dammxq2A-"
      },
      "execution_count": 10,
      "outputs": []
    }
  ]
}