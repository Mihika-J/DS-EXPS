{
  "nbformat": 4,
  "nbformat_minor": 0,
  "metadata": {
    "colab": {
      "provenance": [],
      "include_colab_link": true
    },
    "kernelspec": {
      "name": "python3",
      "display_name": "Python 3"
    },
    "language_info": {
      "name": "python"
    }
  },
  "cells": [
    {
      "cell_type": "markdown",
      "metadata": {
        "id": "view-in-github",
        "colab_type": "text"
      },
      "source": [
        "<a href=\"https://colab.research.google.com/github/Mihika-J/DS-EXPS/blob/main/experiment%201.ipynb\" target=\"_parent\"><img src=\"https://colab.research.google.com/assets/colab-badge.svg\" alt=\"Open In Colab\"/></a>"
      ]
    },
    {
      "cell_type": "code",
      "execution_count": null,
      "metadata": {
        "id": "lB77kFlTnokH"
      },
      "outputs": [],
      "source": [
        "import pandas as pd\n",
        "import numpy as np"
      ]
    },
    {
      "cell_type": "markdown",
      "source": [],
      "metadata": {
        "id": "9eD-pO3uqeuE"
      }
    },
    {
      "cell_type": "code",
      "source": [
        "dataset = pd.read_csv(r\"/content/birthwt.csv\")"
      ],
      "metadata": {
        "id": "tbBBAG0locsl"
      },
      "execution_count": null,
      "outputs": []
    },
    {
      "cell_type": "markdown",
      "source": [],
      "metadata": {
        "id": "EgKV24DuqeMx"
      }
    },
    {
      "cell_type": "code",
      "source": [
        "dataset1 = pd.read_csv(r\"/content/cancer.csv\")"
      ],
      "metadata": {
        "id": "TqpTzQRjpErg"
      },
      "execution_count": null,
      "outputs": []
    },
    {
      "cell_type": "code",
      "source": [
        "print(dataset1)"
      ],
      "metadata": {
        "colab": {
          "base_uri": "https://localhost:8080/"
        },
        "id": "nA3YZJ3WpLfK",
        "outputId": "3093f87e-be5c-4a3f-fab1-e37fde94e761"
      },
      "execution_count": null,
      "outputs": [
        {
          "output_type": "stream",
          "name": "stdout",
          "text": [
            "     Class  age  menopause  tumor-size  inv-nodes  node-caps  deg-malig  \\\n",
            "0        0    5          1           1          1          2          1   \n",
            "1        0    5          4           4          5          7         10   \n",
            "2        0    3          1           1          1          2          2   \n",
            "3        0    6          8           8          1          3          4   \n",
            "4        0    4          1           1          3          2          1   \n",
            "..     ...  ...        ...         ...        ...        ...        ...   \n",
            "678      0    3          1           1          1          3          2   \n",
            "679      0    2          1           1          1          2          1   \n",
            "680      1    5         10          10          3          7          3   \n",
            "681      1    4          8           6          4          3          4   \n",
            "682      1    4          8           8          5          4          5   \n",
            "\n",
            "     breast  breast-quad  irradiat  \n",
            "0         3            1         1  \n",
            "1         3            2         1  \n",
            "2         3            1         1  \n",
            "3         3            7         1  \n",
            "4         3            1         1  \n",
            "..      ...          ...       ...  \n",
            "678       1            1         1  \n",
            "679       1            1         1  \n",
            "680       8           10         2  \n",
            "681      10            6         1  \n",
            "682      10            4         1  \n",
            "\n",
            "[683 rows x 10 columns]\n"
          ]
        }
      ]
    },
    {
      "cell_type": "code",
      "source": [
        "print(dataset)"
      ],
      "metadata": {
        "colab": {
          "base_uri": "https://localhost:8080/"
        },
        "id": "oi5jygfepUZy",
        "outputId": "23c13dfd-ff71-40ff-ebfd-57f482c3c0a6"
      },
      "execution_count": null,
      "outputs": [
        {
          "output_type": "stream",
          "name": "stdout",
          "text": [
            "     low  age  lwt  race  smoke  ptl  ht  ui  ftv   bwt\n",
            "0      0   19  182     2      0    0   0   1    0  2523\n",
            "1      0   33  155     3      0    0   0   0    3  2551\n",
            "2      0   20  105     1      1    0   0   0    1  2557\n",
            "3      0   21  108     1      1    0   0   1    2  2594\n",
            "4      0   18  107     1      1    0   0   1    0  2600\n",
            "..   ...  ...  ...   ...    ...  ...  ..  ..  ...   ...\n",
            "184    1   28   95     1      1    0   0   0    2  2466\n",
            "185    1   14  100     3      0    0   0   0    2  2495\n",
            "186    1   23   94     3      1    0   0   0    0  2495\n",
            "187    1   17  142     2      0    0   1   0    0  2495\n",
            "188    1   21  130     1      1    0   1   0    3  2495\n",
            "\n",
            "[189 rows x 10 columns]\n"
          ]
        }
      ]
    },
    {
      "cell_type": "code",
      "source": [
        "output1 = pd.merge(dataset1, dataset,\n",
        "                   on='age',\n",
        "                   how='outer')"
      ],
      "metadata": {
        "id": "gOTvDOlNtYfi"
      },
      "execution_count": null,
      "outputs": []
    },
    {
      "cell_type": "code",
      "source": [
        "print(output1)"
      ],
      "metadata": {
        "colab": {
          "base_uri": "https://localhost:8080/"
        },
        "id": "2D8oqCdLrK7A",
        "outputId": "9f07cc73-1064-4d7f-af7e-e10cedb0e116"
      },
      "execution_count": null,
      "outputs": [
        {
          "output_type": "stream",
          "name": "stdout",
          "text": [
            "     Class  age  menopause  tumor-size  inv-nodes  node-caps  deg-malig  \\\n",
            "0      0.0    5        1.0         1.0        1.0        2.0        1.0   \n",
            "1      0.0    5        4.0         4.0        5.0        7.0       10.0   \n",
            "2      1.0    5        3.0         3.0        3.0        2.0        3.0   \n",
            "3      1.0    5        2.0         3.0        4.0        2.0        7.0   \n",
            "4      0.0    5        1.0         1.0        1.0        2.0        1.0   \n",
            "..     ...  ...        ...         ...        ...        ...        ...   \n",
            "867    NaN   14        NaN         NaN        NaN        NaN        NaN   \n",
            "868    NaN   14        NaN         NaN        NaN        NaN        NaN   \n",
            "869    NaN   14        NaN         NaN        NaN        NaN        NaN   \n",
            "870    NaN   45        NaN         NaN        NaN        NaN        NaN   \n",
            "871    NaN   34        NaN         NaN        NaN        NaN        NaN   \n",
            "\n",
            "     breast  breast-quad  irradiat  low    lwt  race  smoke  ptl   ht   ui  \\\n",
            "0       3.0          1.0       1.0  NaN    NaN   NaN    NaN  NaN  NaN  NaN   \n",
            "1       3.0          2.0       1.0  NaN    NaN   NaN    NaN  NaN  NaN  NaN   \n",
            "2       4.0          4.0       1.0  NaN    NaN   NaN    NaN  NaN  NaN  NaN   \n",
            "3       3.0          6.0       1.0  NaN    NaN   NaN    NaN  NaN  NaN  NaN   \n",
            "4       2.0          1.0       1.0  NaN    NaN   NaN    NaN  NaN  NaN  NaN   \n",
            "..      ...          ...       ...  ...    ...   ...    ...  ...  ...  ...   \n",
            "867     NaN          NaN       NaN  0.0  135.0   1.0    0.0  0.0  0.0  0.0   \n",
            "868     NaN          NaN       NaN  1.0  101.0   3.0    1.0  1.0  0.0  0.0   \n",
            "869     NaN          NaN       NaN  1.0  100.0   3.0    0.0  0.0  0.0  0.0   \n",
            "870     NaN          NaN       NaN  0.0  123.0   1.0    0.0  0.0  0.0  0.0   \n",
            "871     NaN          NaN       NaN  1.0  187.0   2.0    1.0  0.0  1.0  0.0   \n",
            "\n",
            "     ftv     bwt  \n",
            "0    NaN     NaN  \n",
            "1    NaN     NaN  \n",
            "2    NaN     NaN  \n",
            "3    NaN     NaN  \n",
            "4    NaN     NaN  \n",
            "..   ...     ...  \n",
            "867  0.0  3941.0  \n",
            "868  0.0  2466.0  \n",
            "869  2.0  2495.0  \n",
            "870  1.0  4990.0  \n",
            "871  0.0  1135.0  \n",
            "\n",
            "[872 rows x 19 columns]\n"
          ]
        }
      ]
    },
    {
      "cell_type": "code",
      "source": [
        "sampled_data = output1.sample(n=5)"
      ],
      "metadata": {
        "id": "bhPhKQYhsqvC"
      },
      "execution_count": null,
      "outputs": []
    },
    {
      "cell_type": "code",
      "source": [
        "print(sampled_data)"
      ],
      "metadata": {
        "colab": {
          "base_uri": "https://localhost:8080/"
        },
        "id": "J3JQGPfss16j",
        "outputId": "625dd4d6-7413-4038-8e5d-3505aee37ac4"
      },
      "execution_count": null,
      "outputs": [
        {
          "output_type": "stream",
          "name": "stdout",
          "text": [
            "     Class  age  menopause  tumor-size  inv-nodes  node-caps  deg-malig  \\\n",
            "463    0.0    1        1.0         1.0        1.0        2.0        1.0   \n",
            "839    NaN   24        NaN         NaN        NaN        NaN        NaN   \n",
            "707    NaN   20        NaN         NaN        NaN        NaN        NaN   \n",
            "111    0.0    5        1.0         1.0        1.0        2.0        1.0   \n",
            "389    0.0    1        1.0         1.0        1.0        1.0        1.0   \n",
            "\n",
            "     breast  breast-quad  irradiat  low    lwt  race  smoke  ptl   ht   ui  \\\n",
            "463     2.0          1.0       1.0  NaN    NaN   NaN    NaN  NaN  NaN  NaN   \n",
            "839     NaN          NaN       NaN  1.0  155.0   1.0    1.0  1.0  0.0  0.0   \n",
            "707     NaN          NaN       NaN  0.0  121.0   2.0    1.0  0.0  0.0  0.0   \n",
            "111     2.0          1.0       1.0  NaN    NaN   NaN    NaN  NaN  NaN  NaN   \n",
            "389     3.0          1.0       1.0  NaN    NaN   NaN    NaN  NaN  NaN  NaN   \n",
            "\n",
            "     ftv     bwt  \n",
            "463  NaN     NaN  \n",
            "839  0.0  1936.0  \n",
            "707  0.0  3444.0  \n",
            "111  NaN     NaN  \n",
            "389  NaN     NaN  \n"
          ]
        }
      ]
    },
    {
      "cell_type": "code",
      "source": [
        "dataset.drop(columns=['smoke','ftv'],inplace=True)"
      ],
      "metadata": {
        "id": "a9hLOjKjs5BC"
      },
      "execution_count": null,
      "outputs": []
    },
    {
      "cell_type": "code",
      "source": [
        "print(dataset)"
      ],
      "metadata": {
        "colab": {
          "base_uri": "https://localhost:8080/"
        },
        "id": "PkoFGTu_t3YD",
        "outputId": "2d520f0f-7072-4343-bd35-a4ac50961b74"
      },
      "execution_count": null,
      "outputs": [
        {
          "output_type": "stream",
          "name": "stdout",
          "text": [
            "     low  age  lwt  race  ptl  ht  ui   bwt\n",
            "0      0   19  182     2    0   0   1  2523\n",
            "1      0   33  155     3    0   0   0  2551\n",
            "2      0   20  105     1    0   0   0  2557\n",
            "3      0   21  108     1    0   0   1  2594\n",
            "4      0   18  107     1    0   0   1  2600\n",
            "..   ...  ...  ...   ...  ...  ..  ..   ...\n",
            "184    1   28   95     1    0   0   0  2466\n",
            "185    1   14  100     3    0   0   0  2495\n",
            "186    1   23   94     3    0   0   0  2495\n",
            "187    1   17  142     2    0   1   0  2495\n",
            "188    1   21  130     1    0   1   0  2495\n",
            "\n",
            "[189 rows x 8 columns]\n"
          ]
        }
      ]
    },
    {
      "cell_type": "code",
      "source": [
        "truncated_rows = output1.head(100)"
      ],
      "metadata": {
        "id": "RDu33axouLy5"
      },
      "execution_count": null,
      "outputs": []
    },
    {
      "cell_type": "code",
      "source": [
        "print(output1)"
      ],
      "metadata": {
        "colab": {
          "base_uri": "https://localhost:8080/"
        },
        "id": "RTVttvMsudqj",
        "outputId": "5bdeae7d-691f-4ed4-c14f-ded38968d29a"
      },
      "execution_count": null,
      "outputs": [
        {
          "output_type": "stream",
          "name": "stdout",
          "text": [
            "     Class  age  menopause  tumor-size  inv-nodes  node-caps  deg-malig  \\\n",
            "0      0.0    5        1.0         1.0        1.0        2.0        1.0   \n",
            "1      0.0    5        4.0         4.0        5.0        7.0       10.0   \n",
            "2      1.0    5        3.0         3.0        3.0        2.0        3.0   \n",
            "3      1.0    5        2.0         3.0        4.0        2.0        7.0   \n",
            "4      0.0    5        1.0         1.0        1.0        2.0        1.0   \n",
            "..     ...  ...        ...         ...        ...        ...        ...   \n",
            "867    NaN   14        NaN         NaN        NaN        NaN        NaN   \n",
            "868    NaN   14        NaN         NaN        NaN        NaN        NaN   \n",
            "869    NaN   14        NaN         NaN        NaN        NaN        NaN   \n",
            "870    NaN   45        NaN         NaN        NaN        NaN        NaN   \n",
            "871    NaN   34        NaN         NaN        NaN        NaN        NaN   \n",
            "\n",
            "     breast  breast-quad  irradiat  low    lwt  race  smoke  ptl   ht   ui  \\\n",
            "0       3.0          1.0       1.0  NaN    NaN   NaN    NaN  NaN  NaN  NaN   \n",
            "1       3.0          2.0       1.0  NaN    NaN   NaN    NaN  NaN  NaN  NaN   \n",
            "2       4.0          4.0       1.0  NaN    NaN   NaN    NaN  NaN  NaN  NaN   \n",
            "3       3.0          6.0       1.0  NaN    NaN   NaN    NaN  NaN  NaN  NaN   \n",
            "4       2.0          1.0       1.0  NaN    NaN   NaN    NaN  NaN  NaN  NaN   \n",
            "..      ...          ...       ...  ...    ...   ...    ...  ...  ...  ...   \n",
            "867     NaN          NaN       NaN  0.0  135.0   1.0    0.0  0.0  0.0  0.0   \n",
            "868     NaN          NaN       NaN  1.0  101.0   3.0    1.0  1.0  0.0  0.0   \n",
            "869     NaN          NaN       NaN  1.0  100.0   3.0    0.0  0.0  0.0  0.0   \n",
            "870     NaN          NaN       NaN  0.0  123.0   1.0    0.0  0.0  0.0  0.0   \n",
            "871     NaN          NaN       NaN  1.0  187.0   2.0    1.0  0.0  1.0  0.0   \n",
            "\n",
            "     ftv     bwt  \n",
            "0    NaN     NaN  \n",
            "1    NaN     NaN  \n",
            "2    NaN     NaN  \n",
            "3    NaN     NaN  \n",
            "4    NaN     NaN  \n",
            "..   ...     ...  \n",
            "867  0.0  3941.0  \n",
            "868  0.0  2466.0  \n",
            "869  2.0  2495.0  \n",
            "870  1.0  4990.0  \n",
            "871  0.0  1135.0  \n",
            "\n",
            "[872 rows x 19 columns]\n"
          ]
        }
      ]
    },
    {
      "cell_type": "code",
      "source": [
        "filtered_dataset1 = dataset[dataset['age'] > 15]\n",
        "print(\"Filtered DataFrame (age > 25):\\n\", filtered_dataset)"
      ],
      "metadata": {
        "colab": {
          "base_uri": "https://localhost:8080/"
        },
        "id": "Bo3R9ya0vNFV",
        "outputId": "7a263e97-d460-4d86-c2c7-f38eb14e5084"
      },
      "execution_count": null,
      "outputs": [
        {
          "output_type": "stream",
          "name": "stdout",
          "text": [
            "Filtered DataFrame (age > 25):\n",
            " Empty DataFrame\n",
            "Columns: [Class, age, menopause, tumor-size, inv-nodes, node-caps, deg-malig, breast, breast-quad, irradiat]\n",
            "Index: []\n"
          ]
        }
      ]
    }
  ]
}